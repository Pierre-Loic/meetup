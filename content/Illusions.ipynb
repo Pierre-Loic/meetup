{
 "cells": [
  {
   "cell_type": "markdown",
   "id": "a24f2862",
   "metadata": {},
   "source": [
    "# Illusions d'optique\n",
    "\n"
   ]
  },
  {
   "cell_type": "code",
   "execution_count": 3,
   "id": "f81c23be",
   "metadata": {},
   "outputs": [],
   "source": [
    "# Importation des bibliothèques nécessaires à l'activité\n",
    "import matplotlib.pyplot as plt\n",
    "import matplotlib.lines as mlines\n",
    "import numpy as np"
   ]
  },
  {
   "cell_type": "markdown",
   "id": "ea598013",
   "metadata": {},
   "source": [
    "## Illusions d'optique basées sur le contraste"
   ]
  },
  {
   "cell_type": "code",
   "execution_count": 9,
   "id": "d4e76203",
   "metadata": {},
   "outputs": [
    {
     "data": {
      "image/png": "[encoded data removed]",
      "text/plain": [
       "<Figure size 640x480 with 1 Axes>"
      ]
     },
     "metadata": {},
     "output_type": "display_data"
    }
   ],
   "source": [
    "# Définition des dimensions de l'image\n",
    "largeur, hauteur = 800, 800\n",
    "\n",
    "# Création d'un tableau numpy pour les données de l'image (blanc par défaut)\n",
    "image = np.full((hauteur, largeur, 3), (255, 255, 255)) \n",
    "\n",
    "# Définition de la taille des carrés noirs et de l'espacement (padding) entre eux\n",
    "taille_carre = 200\n",
    "espacement = 30  # Espacement large pour créer l'illusion\n",
    "\n",
    "# Positionnement des carrés noirs\n",
    "for y in range(0, hauteur, taille_carre + espacement):\n",
    "    for x in range(0, largeur, taille_carre + espacement):\n",
    "        image[y:y + taille_carre, x:x + taille_carre] = (0, 0, 0)\n",
    "\n",
    "# Afficher l'illusion d'optique\n",
    "plt.imshow(image, cmap='gray')\n",
    "plt.axis('off')\n",
    "plt.show()"
   ]
  },
  {
   "cell_type": "markdown",
   "id": "3145429d",
   "metadata": {},
   "source": []
  },
  {
   "cell_type": "code",
   "execution_count": 6,
   "id": "e6626b89",
   "metadata": {},
   "outputs": [
    {
     "data": {
      "text/plain": [
       "array([[[0., 0., 0.],\n",
       "        [0., 0., 0.],\n",
       "        [0., 0., 0.],\n",
       "        ...,\n",
       "        [0., 0., 0.],\n",
       "        [0., 0., 0.],\n",
       "        [0., 0., 0.]],\n",
       "\n",
       "       [[0., 0., 0.],\n",
       "        [0., 0., 0.],\n",
       "        [0., 0., 0.],\n",
       "        ...,\n",
       "        [0., 0., 0.],\n",
       "        [0., 0., 0.],\n",
       "        [0., 0., 0.]],\n",
       "\n",
       "       [[0., 0., 0.],\n",
       "        [0., 0., 0.],\n",
       "        [0., 0., 0.],\n",
       "        ...,\n",
       "        [0., 0., 0.],\n",
       "        [0., 0., 0.],\n",
       "        [0., 0., 0.]],\n",
       "\n",
       "       ...,\n",
       "\n",
       "       [[0., 0., 0.],\n",
       "        [0., 0., 0.],\n",
       "        [0., 0., 0.],\n",
       "        ...,\n",
       "        [0., 0., 0.],\n",
       "        [0., 0., 0.],\n",
       "        [0., 0., 0.]],\n",
       "\n",
       "       [[0., 0., 0.],\n",
       "        [0., 0., 0.],\n",
       "        [0., 0., 0.],\n",
       "        ...,\n",
       "        [0., 0., 0.],\n",
       "        [0., 0., 0.],\n",
       "        [0., 0., 0.]],\n",
       "\n",
       "       [[0., 0., 0.],\n",
       "        [0., 0., 0.],\n",
       "        [0., 0., 0.],\n",
       "        ...,\n",
       "        [0., 0., 0.],\n",
       "        [0., 0., 0.],\n",
       "        [0., 0., 0.]]])"
      ]
     },
     "execution_count": 6,
     "metadata": {},
     "output_type": "execute_result"
    }
   ],
   "source": [
    "image"
   ]
  },
  {
   "cell_type": "markdown",
   "id": "bb56ba05",
   "metadata": {},
   "source": [
    "## Illusions d'optique basées sur la géométrie"
   ]
  },
  {
   "cell_type": "code",
   "execution_count": null,
   "id": "dc1153a1",
   "metadata": {},
   "outputs": [],
   "source": []
  }
 ],
 "metadata": {
  "kernelspec": {
   "display_name": "Python 3 (ipykernel)",
   "language": "python",
   "name": "python3"
  },
  "language_info": {
   "codemirror_mode": {
    "name": "ipython",
    "version": 3
   },
   "file_extension": ".py",
   "mimetype": "text/x-python",
   "name": "python",
   "nbconvert_exporter": "python",
   "pygments_lexer": "ipython3",
   "version": "3.11.7"
  }
 },
 "nbformat": 4,
 "nbformat_minor": 5
}
